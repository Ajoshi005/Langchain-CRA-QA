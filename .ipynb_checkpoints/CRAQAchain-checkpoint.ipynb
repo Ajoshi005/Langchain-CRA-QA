{
 "cells": [
  {
   "cell_type": "markdown",
   "id": "bab6d98a",
   "metadata": {},
   "source": [
    "# CRA chatbot\n",
    "This web APP is a friendly chatbot Application for personal Income tax filers to go through the complex CRA document and help in answering questions related to personal tax. \n",
    "- Tools Stack:-\n",
    " - Streamlit:- Front end UI\n",
    " - Pinecone:- Vector Database to store relevant info in chunks\n",
    " - Open AI embedding model(ADA) :- embedding model for Text2Vec\n",
    "    - Using Retreival QA chain\n",
    " - Hugging Face/OpenAI Da vinci :- Model for QA\n",
    " - Tiktoken:- Count tokens used"
   ]
  },
  {
   "cell_type": "markdown",
   "id": "48a3606c",
   "metadata": {},
   "source": [
    "# Workflow\n",
    "- Load the document through relevant loader(PyPDFloader or Textloader)\n",
    "- Split the file into chunks using the recursive character text splitter(chunk overlap = 10%)\n",
    "- Initialise Pinecone DB and create index for the CRA doc file. \n",
    "- Store the text chunks as Vector through Text2Vec ADA embedding model\n",
    "- Create a Prompt Template with allowance of user input\n",
    "- Create a ConversationMemoryBuffer (or summarywindow?) to store past conversations\n",
    "- Create a Retreival QA chain using the above \n",
    "- Test the functionality and then create a streamlit implementation "
   ]
  },
  {
   "cell_type": "code",
   "execution_count": 2,
   "id": "50ace0cc",
   "metadata": {
    "scrolled": true
   },
   "outputs": [
    {
     "name": "stderr",
     "output_type": "stream",
     "text": [
      "/Users/akashjoshi/opt/anaconda3/lib/python3.9/site-packages/pinecone/index.py:4: TqdmExperimentalWarning: Using `tqdm.autonotebook.tqdm` in notebook mode. Use `tqdm.tqdm` instead to force console mode (e.g. in jupyter console)\n",
      "  from tqdm.autonotebook import tqdm\n"
     ]
    }
   ],
   "source": [
    "import os \n",
    "import pinecone\n",
    "import openai\n",
    "from tqdm.autonotebook import tqdm\n",
    "from dotenv import load_dotenv, find_dotenv\n",
    "_ = load_dotenv(find_dotenv()) # read local .env file\n",
    "openai.api_key = os.environ['OPENAI_API_KEY']\n",
    "pinecone.api_key=os.environ['PINECONE_API_KEY']\n",
    "#HF_API_KEY=os.environ['HF_API_KEY']\n",
    "# get openai api key from platform.openai.com\n",
    "#OPENAI_API_KEY = os.getenv('OPENAI_API_KEY') or 'OPENAI_API_KEY'\n"
   ]
  },
  {
   "cell_type": "markdown",
   "id": "900cb801",
   "metadata": {},
   "source": [
    "## Tiktoken to measure tokens"
   ]
  },
  {
   "cell_type": "code",
   "execution_count": 3,
   "id": "293d039c",
   "metadata": {},
   "outputs": [
    {
     "data": {
      "text/plain": [
       "<Encoding 'p50k_base'>"
      ]
     },
     "execution_count": 3,
     "metadata": {},
     "output_type": "execute_result"
    }
   ],
   "source": [
    "import tiktoken\n",
    "#encoding for text da vinci 3 model\n",
    "tiktoken.encoding_for_model('text-davinci-003')"
   ]
  },
  {
   "cell_type": "code",
   "execution_count": 4,
   "id": "8a76d909",
   "metadata": {
    "scrolled": false
   },
   "outputs": [
    {
     "data": {
      "text/plain": [
       "28"
      ]
     },
     "execution_count": 4,
     "metadata": {},
     "output_type": "execute_result"
    }
   ],
   "source": [
    "tokenizer = tiktoken.get_encoding('p50k_base')\n",
    "\n",
    "# create the length function\n",
    "def tiktoken_len(text):\n",
    "    tokens = tokenizer.encode(\n",
    "        text,\n",
    "        disallowed_special=()\n",
    "    )\n",
    "    return len(tokens)\n",
    "\n",
    "tiktoken_len(\"hello I am a chunk of text and using the tiktoken_len function \"\n",
    "             \"we can find the length of this chunk of text in tokens\")"
   ]
  },
  {
   "cell_type": "markdown",
   "id": "77773528",
   "metadata": {},
   "source": [
    "## Load the text file from folder"
   ]
  },
  {
   "cell_type": "code",
   "execution_count": 5,
   "id": "1ff1853b",
   "metadata": {
    "scrolled": false
   },
   "outputs": [
    {
     "data": {
      "text/plain": [
       "1"
      ]
     },
     "execution_count": 5,
     "metadata": {},
     "output_type": "execute_result"
    }
   ],
   "source": [
    "# Can also use directory loader for multiple text files. For this 1 doc I will use basic TextLoader\n",
    "# Txt file path = \"/Users/akashjoshi/Desktop/Python_Learning/streamlit_folder/CRAdoc.txt\"\n",
    "from langchain.document_loaders import TextLoader\n",
    "loader = TextLoader(\"/Users/akashjoshi/Desktop/Python_Learning/streamlit_folder/CRAdoc.txt\")\n",
    "CRAdoc=loader.load()\n",
    "len(CRAdoc)"
   ]
  },
  {
   "cell_type": "code",
   "execution_count": 6,
   "id": "922c32e8",
   "metadata": {},
   "outputs": [
    {
     "data": {
      "text/plain": [
       "40619"
      ]
     },
     "execution_count": 6,
     "metadata": {},
     "output_type": "execute_result"
    }
   ],
   "source": [
    "tiktoken_len(CRAdoc[0].page_content) #40k tokens"
   ]
  },
  {
   "cell_type": "markdown",
   "id": "37d8203a",
   "metadata": {},
   "source": [
    "\n",
    "\n",
    "## Text splitter using recursive character text splitter"
   ]
  },
  {
   "cell_type": "code",
   "execution_count": 7,
   "id": "89e6d5b1",
   "metadata": {},
   "outputs": [],
   "source": [
    "from langchain.text_splitter import RecursiveCharacterTextSplitter\n",
    "\n",
    "text_splitter = RecursiveCharacterTextSplitter(\n",
    "    chunk_size=500, #default 1000.chunk size is dependent on how coherent or random sentences are in a para\n",
    "    chunk_overlap=100,#default 200.usually 10-20% to mantain the sentence struct\n",
    "    length_function=tiktoken_len,\n",
    "    separators=[\"\\n\\n\", \"\\n\", \" \", \"\"]\n",
    ")"
   ]
  },
  {
   "cell_type": "code",
   "execution_count": 8,
   "id": "7df79dae",
   "metadata": {},
   "outputs": [
    {
     "data": {
      "text/plain": [
       "102"
      ]
     },
     "execution_count": 8,
     "metadata": {},
     "output_type": "execute_result"
    }
   ],
   "source": [
    "# split data here\n",
    "#Signature: text_splitter.split_text(text: 'str') -> 'List[str]'\n",
    "#Docstring: Split incoming text and return chunks.\n",
    "chunks = text_splitter.split_text(CRAdoc[0].page_content)\n",
    "len(chunks)#102 blocks of approx 200 tokens"
   ]
  },
  {
   "cell_type": "code",
   "execution_count": 32,
   "id": "14ce9ceb",
   "metadata": {},
   "outputs": [
    {
     "data": {
      "text/plain": [
       "\"New items are flagged with NEW! throughout this guide. \\n \\n+++ The CRA's services \\n \\nSubmit your service feedback online! \\n \\nYou can submit a complaint, compliment, or suggestion to the CRA using the \\nnew Service Feedback RC193 online form. This online form can be used by \\nindividuals, businesses, and representatives. To submit your feedback, go to \\ncanada.ca/cra-service-feedback. \\n \\nCOVID-19 benefits and your taxes \\n \\nAmounts received related to COVID-19 \\n \\nIf you received federal, provincial, or territorial government COVID-19 \\nbenefit payments, such as the Canada Recovery Benefit (CRB), Canada Recovery \\nCaregiving Benefit (CRCB), Canada Recovery Sickness Benefit (CRSB), or Canada \\nWorker Lockdown Benefit (CWLB), you will receive a T4A slip with instructions \\non how to report these amounts on your return. These slips are also available \\nin My Account at canada.ca/my-cra-account. \\n \\nIf your income was tax exempt \\n \\nIf your CRB, CRCB, CRSB, or CWLB income is eligible for tax exemption under \\nsection 87 of the Indian Act, complete Form T90, Income Exempt from Tax under \\nthe Indian Act, and file your 2022 Income Tax and Benefit Return or \\nsimplified return to claim the tax withheld on your CRB, CRCB, CRSB, and CWLB \\npayments. For more information about taxes and benefits for Indigenous \\npeoples, go to canada.ca/taxes-indigenous-peoples. \\n \\nRequest to deduct federal COVID-19 benefits repayment in a prior year \\n \\nComplete and attach Form T1B, Request to Deduct Federal COVID-19 Benefits \\nRepayment in a Prior Year, to your 2022 Income Tax and Benefit Return to \\nrequest to have the amount of federal COVID-19 benefits that you repaid in \\n2022 deducted on your 2020 or 2021 return or split between your 2022 return \\nand the return for the year that you received the benefit. The CRA will then\""
      ]
     },
     "execution_count": 32,
     "metadata": {},
     "output_type": "execute_result"
    }
   ],
   "source": [
    "#check format of chunks\n",
    "chunks[5]"
   ]
  },
  {
   "cell_type": "markdown",
   "id": "9bac726e",
   "metadata": {},
   "source": [
    "## Creating Embeddings using OpenAI embedding model "
   ]
  },
  {
   "cell_type": "code",
   "execution_count": 10,
   "id": "32805c08",
   "metadata": {},
   "outputs": [],
   "source": [
    "from langchain.embeddings.openai import OpenAIEmbeddings\n",
    "OPENAI_API_KEY=os.getenv(\"OPENAI_API_KEY\")\n",
    "model_name = 'text-embedding-ada-002' #Embedding model with N-Dim = 1536 ,\n",
    "#i.e each vector is represented in 1536 dim space\n",
    "\n",
    "embed = OpenAIEmbeddings(\n",
    "    model=model_name,\n",
    "    openai_api_key=OPENAI_API_KEY\n",
    ")"
   ]
  },
  {
   "cell_type": "code",
   "execution_count": 33,
   "id": "88b2d9d5",
   "metadata": {
    "scrolled": false
   },
   "outputs": [
    {
     "data": {
      "text/plain": [
       "(1, 1536)"
      ]
     },
     "execution_count": 33,
     "metadata": {},
     "output_type": "execute_result"
    }
   ],
   "source": [
    "#Test\n",
    "res = embed.embed_documents(chunks[-1])\n",
    "len(res), len(res[0])"
   ]
  },
  {
   "cell_type": "code",
   "execution_count": 34,
   "id": "33155c42",
   "metadata": {},
   "outputs": [
    {
     "name": "stdout",
     "output_type": "stream",
     "text": [
      "The total tokens required for the doc is :  40,619\n"
     ]
    }
   ],
   "source": [
    "print(\"The total tokens required for the doc is : \",f\"{tiktoken_len(CRAdoc[0].page_content):,d}\")"
   ]
  },
  {
   "cell_type": "markdown",
   "id": "80107063",
   "metadata": {},
   "source": [
    "## Vector Database"
   ]
  },
  {
   "cell_type": "code",
   "execution_count": 13,
   "id": "cff01211",
   "metadata": {},
   "outputs": [],
   "source": [
    "#pip install \"pinecone-client[grpc]\"\n",
    "index_name = 'langchain-retrieval-augmentation'"
   ]
  },
  {
   "cell_type": "code",
   "execution_count": 14,
   "id": "7f72d92e",
   "metadata": {},
   "outputs": [],
   "source": [
    "import pinecone\n",
    "PINECONE_API_KEY=os.getenv(\"PINECONE_API_KEY\")\n",
    "\n",
    "pinecone.init(\n",
    "    api_key=PINECONE_API_KEY,\n",
    "    environment='us-west1-gcp-free'\n",
    ")\n",
    "\n",
    "if index_name not in pinecone.list_indexes():\n",
    "    # we create a new index\n",
    "    pinecone.create_index(\n",
    "        name=index_name,\n",
    "        metric='cosine',\n",
    "        dimension=len(res[0])  # 1536 dim of text-embedding-ada-002\n",
    "    )"
   ]
  },
  {
   "cell_type": "markdown",
   "id": "0ac0cc5f",
   "metadata": {},
   "source": [
    "To check go to Pinecone Website Indexes section. It should have the details of new database created"
   ]
  },
  {
   "cell_type": "code",
   "execution_count": 35,
   "id": "9fafa9c0",
   "metadata": {
    "scrolled": false
   },
   "outputs": [
    {
     "data": {
      "text/plain": [
       "{'dimension': 1536,\n",
       " 'index_fullness': 0.0,\n",
       " 'namespaces': {'': {'vector_count': 102}},\n",
       " 'total_vector_count': 102}"
      ]
     },
     "execution_count": 35,
     "metadata": {},
     "output_type": "execute_result"
    }
   ],
   "source": [
    "#verify in python\n",
    "pinecone.list_indexes()\n",
    "index1 = pinecone.Index(\"langchain-retrieval-augmentation\")\n",
    "index1.describe_index_stats()\n",
    "#vector count=0 before upsert"
   ]
  },
  {
   "cell_type": "code",
   "execution_count": 36,
   "id": "55c79e27",
   "metadata": {},
   "outputs": [],
   "source": [
    "# store embeddings in pinecone \n",
    "#using Langchain Pinecone Upsert wrapper (Pinecone.from_texts or from_documents)\n",
    "from langchain.vectorstores import Pinecone\n",
    "#Already Run below statement once\n",
    "#crasearch = Pinecone.from_texts(texts=chunks, embedding=embed, index_name=index_name)"
   ]
  },
  {
   "cell_type": "code",
   "execution_count": 37,
   "id": "90803295",
   "metadata": {},
   "outputs": [
    {
     "data": {
      "text/plain": [
       "{'dimension': 1536,\n",
       " 'index_fullness': 0.0,\n",
       " 'namespaces': {'': {'vector_count': 102}},\n",
       " 'total_vector_count': 102}"
      ]
     },
     "execution_count": 37,
     "metadata": {},
     "output_type": "execute_result"
    }
   ],
   "source": [
    "#verify in python\n",
    "pinecone.list_indexes()\n",
    "index1 = pinecone.Index(\"langchain-retrieval-augmentation\")\n",
    "index1.describe_index_stats()\n",
    "#vector count=102 after upsert"
   ]
  },
  {
   "cell_type": "markdown",
   "id": "80752358",
   "metadata": {},
   "source": [
    "# Use Pinecone to search query\n",
    "\n"
   ]
  },
  {
   "cell_type": "code",
   "execution_count": 38,
   "id": "b47aba7d",
   "metadata": {},
   "outputs": [],
   "source": [
    "text_field = \"text\"\n",
    "\n",
    "index1 = pinecone.Index(index_name)\n",
    "\n",
    "vectorstore = Pinecone(\n",
    "    index1, embed.embed_query, text_field\n",
    ")"
   ]
  },
  {
   "cell_type": "code",
   "execution_count": 57,
   "id": "5fe886fb",
   "metadata": {
    "scrolled": false
   },
   "outputs": [
    {
     "data": {
      "text/plain": [
       "[Document(page_content=\"After you file your return, page 30 \\nNotice of assessment, page 30 \\n- Express NOA, page 30 \\nProcessing time, page 30 \\nHow to change a return, page 30 \\n- Formal disputes (objections and appeals), page 30 \\nCRA Service Feedback Program, page 30 \\n- Service complaints, page 30 \\n- Reprisal complaints, page 31 \\n \\nDigital services for individuals, page 31 \\nMy Account, page 31 \\nMyCRA mobile web app, page 31 \\nMyBenefits CRA mobile app, page 31 \\n \\nRetirement income summary table, page 32 \\n \\nThe CRA's publications and personalized correspondence are available in \\nbraille, large print, e-text, or MP3 for those who have a visual impairment. \\nFor more information, go to canada.ca/cra-multiple-formats or call 1-800-959-\\n8281. If you are outside Canada and the United States, call 613-940-8495. The \\nCRA only accepts collect calls made through telephone operators. After your \\ncall is accepted by an automated response, you may hear a beep and notice a \\nnormal connection delay. \\n \\nUnless otherwise stated, all legislative references are to the Income Tax Act \\nor, where appropriate, the Income Tax Regulations. \\n \\n \\nPAGE 3 \\n \\nNew for 2022 \\n \\nTax changes for 2022 are noted in this section including proposed or \\nannounced changes to income tax rules that were not yet passed into law when \\nthis guide was published in November 2022. If these changes become law as \\nproposed or announced, they will be effective for 2022 or as of the dates \\ngiven. If new legislation is introduced, information will be available at \\ncanada.ca/taxes-whats-new. \\n \\nNew items are flagged with NEW! throughout this guide. \\n \\n+++ The CRA's services \\n \\nSubmit your service feedback online! \\n \\nYou can submit a complaint, compliment, or suggestion to the CRA using the \\nnew Service Feedback RC193 online form. This online form can be used by \\nindividuals, businesses, and representatives. To submit your feedback, go to\", metadata={}),\n",
       " Document(page_content=\"2. If you have not been able to resolve your service-related issue, you can \\nask to discuss the matter with the employee's supervisor \\n \\n3. If the problem is still not resolved, you can file a service-related \\ncomplaint by filling out Form RC193, Service Feedback. For more information \\nand to learn how to file a complaint, go to canada.ca/cra-service-feedback \\n \\nIf you are not satisfied with how the CRA has handled your service-related \\ncomplaint, you can submit a complaint to the Office of the Taxpayers’ \\nOmbudsperson. \\n \\nReprisal complaints \\n \\nIf you have previously submitted a service complaint or requested a formal \\nreview of a CRA decision and feel you were not treated impartially by a CRA \\nemployee, you can submit a reprisal complaint by filling out Form RC459, \\nReprisal Complaint. For more information about complaints and disputes, go to \\ncanada.ca/cra-complaints-disputes. \\n \\nDigital services for individuals \\n \\nThe CRA's digital services are fast, easy, and secure! \\n \\nMy Account \\n \\nMy Account lets you view and manage your personal income tax and benefit \\ninformation online. Find out how to register at canada.ca/my-cra-account. \\n \\nMyCRA mobile web app \\n \\nThe MyCRA mobile web app lets you access key portions of your tax \\ninformation. Access the app at canada.ca/cra-mobile-apps. \\n \\nUse My Account or MyCRA to: \\n \\n- view your benefit and credit information \\n \\n- view your notice of assessment \\n \\n- change your address, direct deposit information, marital status and \\ninformation about children in your care \\n \\n- manage notification preferences and receive email notifications when \\nimportant changes are made on your account \\n \\n- check your TFSA contribution room and RRSP deduction limit \\n \\n- check the status of your tax return \\n \\n- make a payment to the CRA online with My Payment or a pre-authorized debit\", metadata={}),\n",
       " Document(page_content=\"year. \\n \\nIf you are eligible, you will receive an invitation by letter in the mail. \\nYou will then be able to file your return by giving the CRA some personal \\ninformation and answering a series of short questions through an automated \\nphone service. You do not have to fill out any paper forms or do any \\ncalculations. \\n \\nFile a paper return \\n \\nComplete and file the return included in this tax package. If you need a \\npaper version of other forms and publications, go to canada.ca/cra-forms-\\npublications or call 1-800-959-8281. \\n \\nGet help doing your taxes \\n \\nThe following services may help you to complete your tax return based on your \\npersonal tax situation. \\n \\nCommunity Volunteer Income Tax Program (CVITP) and Income Tax Assistance - \\nVolunteer Program (for residents of Quebec) \\n \\nIf you have a modest income and a simple tax situation, volunteers can \\ncomplete your tax return for free. \\n \\nTo find out if you qualify for these services and to find a tax clinic, go to \\ncanada.ca/free-tax-help or call the CRA at 1-800-959-8281. If you want to \\nbecome a volunteer, go to canada.ca/taxes-volunteer. \\n \\nTax Information Phone Service (TIPS) \\n \\nFor tax information by telephone, use the CRA's automated service, TIPS, by \\ncalling 1-800-267-6999. \\n \\nIndividual enquiries by phone \\n \\nCall 1-800-959-8281 from Canada or the United States. TIPS is available 24 \\nhours a day, 7 days a week. \\n \\nAgents are available Monday to Friday (except holidays), 8 am to 8 pm (local \\ntime), and on Saturdays (except holidays) from 9 am to 5 pm (local time). \\n \\nIndividuals in the territories \\n \\nCall 1-866-426-1527 for tax and benefit information for individuals living in \\nthe territories. This is a dedicated phone line available only to residents\", metadata={})]"
      ]
     },
     "execution_count": 57,
     "metadata": {},
     "output_type": "execute_result"
    }
   ],
   "source": [
    "# Vector search example\n",
    "query = \"What digital channels of communication can i use to communicate with CRA\"\n",
    "\n",
    "vectorstore.similarity_search(\n",
    "    query,  # our search query\n",
    "    k=3  # return 3 most relevant docs\n",
    ")"
   ]
  },
  {
   "cell_type": "markdown",
   "id": "7cd299c2",
   "metadata": {},
   "source": [
    "# Create a prompt template to describe the system and generate output in secific format\n",
    "### It will be passed in kwargs in QA chain"
   ]
  },
  {
   "cell_type": "code",
   "execution_count": 63,
   "id": "ca86e549",
   "metadata": {},
   "outputs": [],
   "source": [
    "from langchain.prompts import PromptTemplate\n",
    "prompt_template = \"\"\"Use the following pieces of context to answer the question at the end. If you don't know the answer, just say that you don't know, don't try to make up an answer.\n",
    "\n",
    "{context}\n",
    "\n",
    "Question: {question}\n",
    "Respond in pointwise manner with each point starting in a new line.Explain like a 10year old can understand.\n",
    "Answer:\"\"\"\n",
    "PROMPT = PromptTemplate(\n",
    "    template=prompt_template, input_variables=[\"context\", \"question\"]\n",
    ")\n",
    "chain_type_kwargs = {\"prompt\": PROMPT}"
   ]
  },
  {
   "cell_type": "markdown",
   "id": "1deddaed",
   "metadata": {},
   "source": [
    "# Create basic QA chain test"
   ]
  },
  {
   "cell_type": "code",
   "execution_count": 73,
   "id": "639c5209",
   "metadata": {},
   "outputs": [],
   "source": [
    "from langchain.chat_models import ChatOpenAI\n",
    "from langchain.chains import RetrievalQA\n",
    "\n",
    "# completion llm\n",
    "llm = ChatOpenAI(\n",
    "    openai_api_key=OPENAI_API_KEY,\n",
    "    model_name='gpt-3.5-turbo',\n",
    "    temperature=0.0,\n",
    "    verbose=True\n",
    ")\n",
    "\n",
    "qa = RetrievalQA.from_chain_type(\n",
    "    llm=llm,\n",
    "    chain_type=\"stuff\",\n",
    "    chain_type_kwargs=chain_type_kwargs,\n",
    "    retriever=vectorstore.as_retriever()\n",
    ")"
   ]
  },
  {
   "cell_type": "code",
   "execution_count": 74,
   "id": "04e11c75",
   "metadata": {},
   "outputs": [
    {
     "name": "stdout",
     "output_type": "stream",
     "text": [
      "Enter your query here:What incentives do i get as a student?\n",
      "Total Tokens: 2606\n",
      "Prompt Tokens: 2281\n",
      "Completion Tokens: 325\n"
     ]
    }
   ],
   "source": [
    "from langchain.callbacks import get_openai_callback\n",
    "#get query and run\n",
    "query = input(\"Enter your query here:\")\n",
    "\n",
    "with get_openai_callback() as cb:\n",
    "    # Run query\n",
    "    response=qa.run(query)\n",
    "    print(f\"Total Tokens: {cb.total_tokens}\")\n",
    "    print(f\"Prompt Tokens: {cb.prompt_tokens}\")\n",
    "    print(f\"Completion Tokens: {cb.completion_tokens}\")"
   ]
  },
  {
   "cell_type": "code",
   "execution_count": 75,
   "id": "6fb1dfe0",
   "metadata": {},
   "outputs": [
    {
     "data": {
      "text/plain": [
       "\"As a student, you may be eligible for certain incentives or benefits. Here are some of them:\\n\\n1. Canada Training Credit (CTC): If you meet certain conditions, such as being a resident in Canada and having a Canada training credit limit, you can claim a credit for courses you took in 2022. This credit can help reduce your taxes in the future.\\n\\n2. Eligible Educator School Supply Tax Credit: If you are a teacher or early childhood educator and you bought teaching supplies for your classroom, you can claim up to $1,000 of eligible supplies expenses. These expenses should be directly related to teaching and not reimbursed by your school.\\n\\n3. Scholarships, Fellowships, and Bursaries: Certain scholarships, fellowships, and bursaries are not taxable. This means that if you receive these types of financial assistance for your education, you don't have to pay taxes on them.\\n\\n4. Transfer of Unused Tuition Amount: If you have unused tuition amounts, you can transfer them to a parent or grandparent who can claim them on their tax return. This can help reduce their taxes and potentially save them money.\\n\\n5. Medical Expenses: You can claim eligible medical expenses that you paid in any 12-month period ending in 2022. This can include expenses for things like prescription medications, doctor's visits, and medical treatments.\\n\\nThese are just a few examples of the incentives or benefits that students may be eligible for. It's important to review the specific eligibility criteria and guidelines provided by the Canada Revenue Agency (CRA) to determine which incentives apply to your situation.\""
      ]
     },
     "execution_count": 75,
     "metadata": {},
     "output_type": "execute_result"
    }
   ],
   "source": [
    "response"
   ]
  },
  {
   "cell_type": "code",
   "execution_count": 72,
   "id": "e9e7129c",
   "metadata": {},
   "outputs": [
    {
     "data": {
      "text/plain": [
       "False"
      ]
     },
     "execution_count": 72,
     "metadata": {},
     "output_type": "execute_result"
    }
   ],
   "source": [
    "qa.verbose"
   ]
  },
  {
   "cell_type": "code",
   "execution_count": null,
   "id": "cc024c5f",
   "metadata": {},
   "outputs": [],
   "source": []
  }
 ],
 "metadata": {
  "kernelspec": {
   "display_name": "Python 3 (ipykernel)",
   "language": "python",
   "name": "python3"
  },
  "language_info": {
   "codemirror_mode": {
    "name": "ipython",
    "version": 3
   },
   "file_extension": ".py",
   "mimetype": "text/x-python",
   "name": "python",
   "nbconvert_exporter": "python",
   "pygments_lexer": "ipython3",
   "version": "3.9.12"
  }
 },
 "nbformat": 4,
 "nbformat_minor": 5
}
